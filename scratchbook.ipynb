{
 "cells": [
  {
   "cell_type": "code",
   "execution_count": 616,
   "metadata": {},
   "outputs": [],
   "source": [
    "import pandas as pd\n",
    "import numpy as np\n",
    "from math import floor"
   ]
  },
  {
   "cell_type": "code",
   "execution_count": 617,
   "metadata": {},
   "outputs": [],
   "source": [
    "#data_raw = pd.read_csv(\"resources/apple_stock.csv\")\n",
    "data_raw = pd.read_csv(\"resources/tesla.csv\")\n",
    "#data_raw = pd.read_csv(\"microsoft_stock.csv\")\n",
    "#data_raw = pd.read_csv(\"resources/kodak_stock.csv\")\n",
    "#data_raw = pd.read_csv(\"meta_stock.csv\")"
   ]
  },
  {
   "cell_type": "code",
   "execution_count": 618,
   "metadata": {},
   "outputs": [
    {
     "data": {
      "text/html": [
       "<div>\n",
       "<style scoped>\n",
       "    .dataframe tbody tr th:only-of-type {\n",
       "        vertical-align: middle;\n",
       "    }\n",
       "\n",
       "    .dataframe tbody tr th {\n",
       "        vertical-align: top;\n",
       "    }\n",
       "\n",
       "    .dataframe thead th {\n",
       "        text-align: right;\n",
       "    }\n",
       "</style>\n",
       "<table border=\"1\" class=\"dataframe\">\n",
       "  <thead>\n",
       "    <tr style=\"text-align: right;\">\n",
       "      <th></th>\n",
       "      <th>Date</th>\n",
       "      <th>Close/Last</th>\n",
       "      <th>Volume</th>\n",
       "      <th>Open</th>\n",
       "      <th>High</th>\n",
       "      <th>Low</th>\n",
       "    </tr>\n",
       "  </thead>\n",
       "  <tbody>\n",
       "    <tr>\n",
       "      <th>1258</th>\n",
       "      <td>02/08/2017</td>\n",
       "      <td>$52.416</td>\n",
       "      <td>19562140</td>\n",
       "      <td>$51.47</td>\n",
       "      <td>$52.672</td>\n",
       "      <td>$51.24</td>\n",
       "    </tr>\n",
       "    <tr>\n",
       "      <th>1257</th>\n",
       "      <td>02/09/2017</td>\n",
       "      <td>$53.84</td>\n",
       "      <td>39063000</td>\n",
       "      <td>$53.25</td>\n",
       "      <td>$54.236</td>\n",
       "      <td>$53.23</td>\n",
       "    </tr>\n",
       "    <tr>\n",
       "      <th>1256</th>\n",
       "      <td>02/10/2017</td>\n",
       "      <td>$53.846</td>\n",
       "      <td>18091680</td>\n",
       "      <td>$53.958</td>\n",
       "      <td>$54.19</td>\n",
       "      <td>$53.222</td>\n",
       "    </tr>\n",
       "    <tr>\n",
       "      <th>1255</th>\n",
       "      <td>02/13/2017</td>\n",
       "      <td>$56.12</td>\n",
       "      <td>35115360</td>\n",
       "      <td>$54.148</td>\n",
       "      <td>$56.158</td>\n",
       "      <td>$54.102</td>\n",
       "    </tr>\n",
       "    <tr>\n",
       "      <th>1254</th>\n",
       "      <td>02/14/2017</td>\n",
       "      <td>$56.196</td>\n",
       "      <td>36707250</td>\n",
       "      <td>$55.806</td>\n",
       "      <td>$57.478</td>\n",
       "      <td>$55.722</td>\n",
       "    </tr>\n",
       "    <tr>\n",
       "      <th>...</th>\n",
       "      <td>...</td>\n",
       "      <td>...</td>\n",
       "      <td>...</td>\n",
       "      <td>...</td>\n",
       "      <td>...</td>\n",
       "      <td>...</td>\n",
       "    </tr>\n",
       "    <tr>\n",
       "      <th>4</th>\n",
       "      <td>02/01/2022</td>\n",
       "      <td>$931.25</td>\n",
       "      <td>24379450</td>\n",
       "      <td>$935.21</td>\n",
       "      <td>$943.7</td>\n",
       "      <td>$905</td>\n",
       "    </tr>\n",
       "    <tr>\n",
       "      <th>3</th>\n",
       "      <td>02/02/2022</td>\n",
       "      <td>$905.66</td>\n",
       "      <td>22264350</td>\n",
       "      <td>$928.18</td>\n",
       "      <td>$931.5</td>\n",
       "      <td>$889.41</td>\n",
       "    </tr>\n",
       "    <tr>\n",
       "      <th>2</th>\n",
       "      <td>02/03/2022</td>\n",
       "      <td>$891.14</td>\n",
       "      <td>26285190</td>\n",
       "      <td>$882</td>\n",
       "      <td>$937</td>\n",
       "      <td>$880.52</td>\n",
       "    </tr>\n",
       "    <tr>\n",
       "      <th>1</th>\n",
       "      <td>02/04/2022</td>\n",
       "      <td>$923.32</td>\n",
       "      <td>24541820</td>\n",
       "      <td>$897.22</td>\n",
       "      <td>$936.5</td>\n",
       "      <td>$881.17</td>\n",
       "    </tr>\n",
       "    <tr>\n",
       "      <th>0</th>\n",
       "      <td>02/07/2022</td>\n",
       "      <td>$907.34</td>\n",
       "      <td>20331490</td>\n",
       "      <td>$923.79</td>\n",
       "      <td>$947.77</td>\n",
       "      <td>$902.7089</td>\n",
       "    </tr>\n",
       "  </tbody>\n",
       "</table>\n",
       "<p>1259 rows × 6 columns</p>\n",
       "</div>"
      ],
      "text/plain": [
       "            Date Close/Last    Volume     Open     High        Low\n",
       "1258  02/08/2017    $52.416  19562140   $51.47  $52.672     $51.24\n",
       "1257  02/09/2017     $53.84  39063000   $53.25  $54.236     $53.23\n",
       "1256  02/10/2017    $53.846  18091680  $53.958   $54.19    $53.222\n",
       "1255  02/13/2017     $56.12  35115360  $54.148  $56.158    $54.102\n",
       "1254  02/14/2017    $56.196  36707250  $55.806  $57.478    $55.722\n",
       "...          ...        ...       ...      ...      ...        ...\n",
       "4     02/01/2022    $931.25  24379450  $935.21   $943.7       $905\n",
       "3     02/02/2022    $905.66  22264350  $928.18   $931.5    $889.41\n",
       "2     02/03/2022    $891.14  26285190     $882     $937    $880.52\n",
       "1     02/04/2022    $923.32  24541820  $897.22   $936.5    $881.17\n",
       "0     02/07/2022    $907.34  20331490  $923.79  $947.77  $902.7089\n",
       "\n",
       "[1259 rows x 6 columns]"
      ]
     },
     "execution_count": 618,
     "metadata": {},
     "output_type": "execute_result"
    }
   ],
   "source": [
    "data_raw=data_raw.reindex(index=data_raw.index[::-1])\n",
    "\n",
    "data_raw"
   ]
  },
  {
   "cell_type": "code",
   "execution_count": 619,
   "metadata": {},
   "outputs": [],
   "source": [
    "data_raw[[\"Close/Last\"]]=data_raw[[\"Close/Last\"]].astype('str').replace({'\\$':' '}, regex=True).astype('float')\n",
    "data_raw[[\"Open\"]]=data_raw[[\"Open\"]].astype('str').replace({'\\$':' '}, regex=True).astype('float')\n",
    "data_raw[[\"High\"]]=data_raw[[\"High\"]].astype('str').replace({'\\$':' '}, regex=True).astype('float')\n",
    "data_raw[[\"Low\"]]=data_raw[[\"Low\"]].astype('str').replace({'\\$':' '}, regex=True).astype('float')\n",
    "\n",
    "data_preprocessed=data_raw.copy()"
   ]
  },
  {
   "cell_type": "code",
   "execution_count": 620,
   "metadata": {},
   "outputs": [],
   "source": [
    "def stochastic_oscillator(close,low,high):\n",
    "    return (close-low)/(high-low) * 100"
   ]
  },
  {
   "cell_type": "markdown",
   "metadata": {},
   "source": []
  },
  {
   "cell_type": "code",
   "execution_count": 621,
   "metadata": {},
   "outputs": [],
   "source": [
    "data_preprocessed[\"Highest14\"] = data_preprocessed[\"High\"].rolling(window=14).max()\n",
    "data_preprocessed[\"Lowest14\"] = data_preprocessed[\"Low\"].rolling(window=14).min()\n",
    "data_preprocessed=data_preprocessed[data_preprocessed[\"Highest14\"]!=-1]\n",
    "data_preprocessed=data_preprocessed[~data_preprocessed[\"Highest14\"].isna()]\n",
    "data_preprocessed[\"StochasticOscillator14d\"] = data_preprocessed.apply(lambda row:stochastic_oscillator(row['Close/Last'],row['Lowest14'],row['Highest14']), axis=1)\n",
    "data_preprocessed[\"StochasticOscilaltorDiff\"] = data_preprocessed[\"StochasticOscillator14d\"].diff()\n"
   ]
  },
  {
   "cell_type": "code",
   "execution_count": 622,
   "metadata": {},
   "outputs": [
    {
     "name": "stdout",
     "output_type": "stream",
     "text": [
      "            Date  Close/Last    Volume     Open     High       Low  Highest14  \\\n",
      "1245  02/28/2017      49.998  30369450   48.838   50.200   48.7800    57.4780   \n",
      "1244  03/01/2017      50.004  24024815   50.836   50.970   49.8220    57.4780   \n",
      "1243  03/02/2017      50.096  16728755   49.942   50.656   49.6540    57.4780   \n",
      "1242  03/03/2017      50.314  14627405   50.148   50.380   49.8000    57.4780   \n",
      "1241  03/06/2017      50.242  16768005   49.582   50.340   49.5020    57.4780   \n",
      "...          ...         ...       ...      ...      ...       ...        ...   \n",
      "4     02/01/2022     931.250  24379450  935.210  943.700  905.0000  1115.6000   \n",
      "3     02/02/2022     905.660  22264350  928.180  931.500  889.4100  1115.6000   \n",
      "2     02/03/2022     891.140  26285190  882.000  937.000  880.5200  1070.7899   \n",
      "1     02/04/2022     923.320  24541820  897.220  936.500  881.1700  1070.7899   \n",
      "0     02/07/2022     907.340  20331490  923.790  947.770  902.7089  1054.6699   \n",
      "\n",
      "      Lowest14  StochasticOscillator14d  StochasticOscilaltorDiff  \n",
      "1245    48.402                17.584839                       NaN  \n",
      "1244    48.402                17.650948                  0.066108  \n",
      "1243    48.402                18.664610                  1.013662  \n",
      "1242    48.402                21.066549                  2.401939  \n",
      "1241    48.402                20.273248                 -0.793301  \n",
      "...        ...                      ...                       ...  \n",
      "4      792.010                43.029760                 -1.690411  \n",
      "3      792.010                35.121604                 -7.908155  \n",
      "2      792.010                35.558518                  0.436913  \n",
      "1      792.010                47.101674                 11.543156  \n",
      "0      792.010                43.908492                 -3.193183  \n",
      "\n",
      "[1246 rows x 10 columns]\n"
     ]
    }
   ],
   "source": [
    "df=data_preprocessed\n",
    "print(df)"
   ]
  },
  {
   "cell_type": "markdown",
   "metadata": {},
   "source": [
    "## Testing"
   ]
  },
  {
   "cell_type": "code",
   "execution_count": 623,
   "metadata": {},
   "outputs": [],
   "source": [
    "money= 1000.0"
   ]
  },
  {
   "cell_type": "markdown",
   "metadata": {},
   "source": [
    "### Buy & Hold"
   ]
  },
  {
   "cell_type": "code",
   "execution_count": 624,
   "metadata": {},
   "outputs": [
    {
     "data": {
      "text/plain": [
       "18147.525901036042"
      ]
     },
     "execution_count": 624,
     "metadata": {},
     "output_type": "execute_result"
    }
   ],
   "source": [
    "if_bought_start = money/df[[\"Close/Last\"]].iloc[0]*df[[\"Close/Last\"]].iloc[len(df)-1]\n",
    "if_bought_start[0]"
   ]
  },
  {
   "cell_type": "markdown",
   "metadata": {},
   "source": [
    "### Using Stochastic oscillator 14days, buy on 20, sell on 80"
   ]
  },
  {
   "cell_type": "markdown",
   "metadata": {},
   "source": []
  },
  {
   "cell_type": "code",
   "execution_count": 626,
   "metadata": {},
   "outputs": [
    {
     "name": "stdout",
     "output_type": "stream",
     "text": [
      "4\n",
      "211.58199999999988\n"
     ]
    }
   ],
   "source": [
    "data=[]\n",
    "for i,row in df.iterrows():\n",
    "    if i==0:\n",
    "        continue;\n",
    "    data.append([row[['Date']][0],money,row[[\"StochasticOscillator14d\"]][0],row[[\"Close/Last\"]][0],stocks])\n",
    "    if i==0:\n",
    "        money= 1000\n",
    "        stocks = 0\n",
    "    elif (row[\"StochasticOscillator14d\"]<20) & (money>2*row[[\"Close/Last\"]][0]) & (row['StochasticOscilaltorDiff']>0.5):\n",
    "        stocks = stocks+floor(money/row[[\"Close/Last\"]][0])\n",
    "        money = money-stocks*row[[\"Close/Last\"]][0]\n",
    "    elif (row[\"StochasticOscillator14d\"]>80) & (stocks>0) & (row['StochasticOscilaltorDiff']<0):\n",
    "        money = money+stocks*row[[\"Close/Last\"]][0]\n",
    "        stocks=0\n",
    "        \n",
    "print(stocks)\n",
    "print(money)"
   ]
  },
  {
   "cell_type": "code",
   "execution_count": 627,
   "metadata": {},
   "outputs": [],
   "source": [
    "df=pd.DataFrame(data,columns=[\"Date\",\"money\",\"StochasticOscillator14d\",\"Close\",\"Stocks\"])"
   ]
  },
  {
   "cell_type": "code",
   "execution_count": 628,
   "metadata": {},
   "outputs": [],
   "source": [
    "df.to_excel(\"output.xlsx\")"
   ]
  }
 ],
 "metadata": {
  "interpreter": {
   "hash": "c557fd3014d78f8f57be1ea270857b385d3ccaa1509f677e7b9fa6ca848df2b5"
  },
  "kernelspec": {
   "display_name": "Python 3.9.10 64-bit (windows store)",
   "language": "python",
   "name": "python3"
  },
  "language_info": {
   "codemirror_mode": {
    "name": "ipython",
    "version": 3
   },
   "file_extension": ".py",
   "mimetype": "text/x-python",
   "name": "python",
   "nbconvert_exporter": "python",
   "pygments_lexer": "ipython3",
   "version": "3.9.10"
  },
  "orig_nbformat": 4
 },
 "nbformat": 4,
 "nbformat_minor": 2
}
